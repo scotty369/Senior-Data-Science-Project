{
  "cells": [
    {
      "cell_type": "raw",
      "metadata": {},
      "source": [
        "---\n",
        "title: \"Senior Data Science Project: Image Captioning Tool\"\n",
        "author: \"Scott Townsend\"\n",
        "date: \"2025-01-27\"\n",
        "format: revealjs\n",
        "theme: solarized\n",
        "transition: fade\n",
        "---"
      ],
      "id": "acb940e9"
    },
    {
      "cell_type": "markdown",
      "metadata": {},
      "source": [
        "## Data Preparation\n",
        "\n",
        "I prepared the dataset by performing the following tasks:\n",
        "\n",
        "- Removed duplicate rows\n",
        "- Filled missing captions with \"No caption\"\n",
        "- Verified the existence of image files"
      ],
      "id": "c9b245a6"
    },
    {
      "cell_type": "raw",
      "metadata": {},
      "source": [
        "---\n",
        "\n",
        "## Data Preparation\n",
        "\n",
        "We prepared the dataset by performing the following tasks:\n",
        "\n",
        "- Removed duplicate rows\n",
        "- Filled missing captions with \"No caption\"\n",
        "- Verified the existence of image files\n",
        "\n",
        "---"
      ],
      "id": "821e5a23"
    },
    {
      "cell_type": "markdown",
      "metadata": {},
      "source": [
        "## Exploratory Data Analysis\n",
        "\n",
        "### Caption Statistics\n",
        "We analyzed the captions to understand their distribution and sentiment.\n"
      ],
      "id": "c8ad362e"
    },
    {
      "cell_type": "markdown",
      "metadata": {},
      "source": [
        "---\n",
        "\n",
        "## Interactive Demo\n",
        "\n",
        "Below is a demonstration of the tool. Upload an image to generate a caption:\n"
      ],
      "id": "1d7664ab"
    },
    {
      "cell_type": "raw",
      "metadata": {},
      "source": [
        "---"
      ],
      "id": "e96264f6"
    },
    {
      "cell_type": "markdown",
      "metadata": {},
      "source": [
        "## Conclusion\n",
        "\n",
        "- Built an end-to-end image captioning tool\n",
        "- Cleaned and explored data to ensure robustness\n",
        "- Used deep learning models to achieve accurate captions\n",
        "- Created an interactive tool to assist visually impaired users and automate captioning"
      ],
      "id": "f0f7c093"
    }
  ],
  "metadata": {
    "kernelspec": {
      "display_name": "Python 3",
      "language": "python",
      "name": "python3"
    }
  },
  "nbformat": 4,
  "nbformat_minor": 5
}